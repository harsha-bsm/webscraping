{
  "nbformat": 4,
  "nbformat_minor": 0,
  "metadata": {
    "colab": {
      "name": "Scrapping SamsungM30.ipynb",
      "provenance": [],
      "collapsed_sections": [],
      "authorship_tag": "ABX9TyPYGoznaX+CtGPsntJsw7it"
    },
    "kernelspec": {
      "name": "python3",
      "display_name": "Python 3"
    }
  },
  "cells": [
    {
      "cell_type": "code",
      "metadata": {
        "id": "y_jVmfsRq9Ag",
        "colab_type": "code",
        "colab": {}
      },
      "source": [
        "import requests as re"
      ],
      "execution_count": 59,
      "outputs": []
    },
    {
      "cell_type": "code",
      "metadata": {
        "id": "xW-v21WDrGXe",
        "colab_type": "code",
        "colab": {}
      },
      "source": [
        "  from bs4 import BeautifulSoup"
      ],
      "execution_count": 60,
      "outputs": []
    },
    {
      "cell_type": "code",
      "metadata": {
        "id": "KgbMpEr0LzZH",
        "colab_type": "code",
        "colab": {}
      },
      "source": [
        "import re as regex"
      ],
      "execution_count": 61,
      "outputs": []
    },
    {
      "cell_type": "code",
      "metadata": {
        "id": "7r8jdWKHs_qS",
        "colab_type": "code",
        "colab": {
          "base_uri": "https://localhost:8080/",
          "height": 35
        },
        "outputId": "d697660a-cabe-40f0-fd4f-72d5a717b08f"
      },
      "source": [
        "soup.title.text"
      ],
      "execution_count": 62,
      "outputs": [
        {
          "output_type": "execute_result",
          "data": {
            "application/vnd.google.colaboratory.intrinsic+json": {
              "type": "string"
            },
            "text/plain": [
              "'Samsung Galaxy M30s Blue 128 Gb Reviews: Latest Review of Samsung Galaxy M30s Blue 128 Gb | Price in India | Flipkart.com'"
            ]
          },
          "metadata": {
            "tags": []
          },
          "execution_count": 62
        }
      ]
    },
    {
      "cell_type": "code",
      "metadata": {
        "id": "Pd0Nt8LOQF_Q",
        "colab_type": "code",
        "colab": {}
      },
      "source": [
        "import pandas as pd"
      ],
      "execution_count": 63,
      "outputs": []
    },
    {
      "cell_type": "code",
      "metadata": {
        "id": "_Zy27sD0tHX2",
        "colab_type": "code",
        "colab": {
          "base_uri": "https://localhost:8080/",
          "height": 66
        },
        "outputId": "01d27ce3-3c1c-4886-c80b-4d75ed467610"
      },
      "source": [
        "#soup.find_all(\"div\",attrs={\"class\":\"qwj&\"})\n",
        "\n",
        "data=pd.DataFrame(columns={\"title\",\"review\",\"rating\",\"user\",\"time_of_review\"})\n",
        "print(data)\n",
        "review_1=[]\n",
        "title_1=[]\n",
        "rating_1=[]\n",
        "user_1=[]\n",
        "time1=[]\n",
        "user_address=[]\n",
        "for j in range(1,31):\n",
        "  url=\"https://www.flipkart.com/samsung-galaxy-m30s-blue-128-gb/product-reviews/itm79f7239a3b086?pid=MOBFSHFBFGNWPSXF&lid=LSTMOBFSHFBFGNWPSXF514GKR&marketplace=FLIPKART&page=\"\n",
        "  url_fin=url+str(j)\n",
        "  html=re.get(url_fin)\n",
        "  soup=BeautifulSoup(html.text,\"lxml\")\n",
        "  review=soup.find_all(class_=regex.compile(\"qwj\"))\n",
        "  title=soup.find_all(\"p\",class_=regex.compile(\"_2xg\"))\n",
        "  user=soup.find_all(\"p\",class_=regex.compile(\"_3LYOAd _3sxSiS\"))\n",
        "  rating=soup.find_all(class_=regex.compile(\"hGSR34 E_uFuv\"))\n",
        "  address=soup.find_all(class_=regex.compile(\"_19inI8\"))\n",
        "  time=soup.find_all(attrs={\"class\":\"_3LYOAd\"})[1::2]\n",
        "  for (i,j,k,u,t,ad) in zip(review,title,rating,user,time,address):\n",
        "    review_1.append(i.text.strip(\"READ MORE\"))\n",
        "    title_1.append(j.text)\n",
        "    rating_1.append(k.text)\n",
        "    user_1.append(u.text)\n",
        "    time1.append(t.text)\n",
        "    user_address.append(ad.text)\n",
        "data[\"title\"]=title_1\n",
        "data[\"review\"]=review_1\n",
        "data[\"rating\"]=rating_1\n",
        "data[\"user\"]=user_1\n",
        "data[\"time_of_review\"]=time1\n",
        "data[\"user_address\"]=user_address\n",
        "    "
      ],
      "execution_count": 85,
      "outputs": [
        {
          "output_type": "stream",
          "text": [
            "Empty DataFrame\n",
            "Columns: [user, title, time_of_review, rating, review]\n",
            "Index: []\n"
          ],
          "name": "stdout"
        }
      ]
    },
    {
      "cell_type": "code",
      "metadata": {
        "id": "3Pt_dhyxov6m",
        "colab_type": "code",
        "colab": {
          "base_uri": "https://localhost:8080/",
          "height": 391
        },
        "outputId": "160c5ce7-2927-487f-f558-d26293cae0c0"
      },
      "source": [
        "data"
      ],
      "execution_count": 86,
      "outputs": [
        {
          "output_type": "execute_result",
          "data": {
            "text/html": [
              "<div>\n",
              "<style scoped>\n",
              "    .dataframe tbody tr th:only-of-type {\n",
              "        vertical-align: middle;\n",
              "    }\n",
              "\n",
              "    .dataframe tbody tr th {\n",
              "        vertical-align: top;\n",
              "    }\n",
              "\n",
              "    .dataframe thead th {\n",
              "        text-align: right;\n",
              "    }\n",
              "</style>\n",
              "<table border=\"1\" class=\"dataframe\">\n",
              "  <thead>\n",
              "    <tr style=\"text-align: right;\">\n",
              "      <th></th>\n",
              "      <th>user</th>\n",
              "      <th>title</th>\n",
              "      <th>time_of_review</th>\n",
              "      <th>rating</th>\n",
              "      <th>review</th>\n",
              "      <th>user_address</th>\n",
              "    </tr>\n",
              "  </thead>\n",
              "  <tbody>\n",
              "    <tr>\n",
              "      <th>0</th>\n",
              "      <td>Aryan  Patil</td>\n",
              "      <td>Wonderful</td>\n",
              "      <td>2months ago</td>\n",
              "      <td>5</td>\n",
              "      <td>Bokeh mode is very excellent than any other ha...</td>\n",
              "      <td>Certified Buyer, Latur District</td>\n",
              "    </tr>\n",
              "    <tr>\n",
              "      <th>1</th>\n",
              "      <td>Flipkart Customer</td>\n",
              "      <td>Great product</td>\n",
              "      <td>5months ago</td>\n",
              "      <td>5</td>\n",
              "      <td>Just awsome product the picture quality is goo...</td>\n",
              "      <td>Certified Buyer, North Twenty Four Parganas Di...</td>\n",
              "    </tr>\n",
              "    <tr>\n",
              "      <th>2</th>\n",
              "      <td>Suresh Kumar</td>\n",
              "      <td>Nice product</td>\n",
              "      <td>5months ago</td>\n",
              "      <td>4</td>\n",
              "      <td>Samsung galaxy m30s is most useful.But Samsung...</td>\n",
              "      <td>Certified Buyer, New Delhi</td>\n",
              "    </tr>\n",
              "    <tr>\n",
              "      <th>3</th>\n",
              "      <td>Rohit Purba</td>\n",
              "      <td>Utterly Disappointed</td>\n",
              "      <td>6months ago</td>\n",
              "      <td>5</td>\n",
              "      <td>Not worth for me. i buy for my samsung tv this...</td>\n",
              "      <td>Certified Buyer, Rajpura</td>\n",
              "    </tr>\n",
              "    <tr>\n",
              "      <th>4</th>\n",
              "      <td>Flipkart Customer</td>\n",
              "      <td>Highly recommended</td>\n",
              "      <td>5months ago</td>\n",
              "      <td>4</td>\n",
              "      <td>BSOLUTELY BEST PHONE, GO FOR THIS PHONELET ME ...</td>\n",
              "      <td>Certified Buyer, Muzaffarpur</td>\n",
              "    </tr>\n",
              "    <tr>\n",
              "      <th>...</th>\n",
              "      <td>...</td>\n",
              "      <td>...</td>\n",
              "      <td>...</td>\n",
              "      <td>...</td>\n",
              "      <td>...</td>\n",
              "      <td>...</td>\n",
              "    </tr>\n",
              "    <tr>\n",
              "      <th>258</th>\n",
              "      <td>Flipkart Customer</td>\n",
              "      <td>Decent product</td>\n",
              "      <td>7months ago</td>\n",
              "      <td>3</td>\n",
              "      <td>okay</td>\n",
              "      <td>Certified Buyer, Chennai</td>\n",
              "    </tr>\n",
              "    <tr>\n",
              "      <th>259</th>\n",
              "      <td>Aravind kumar S</td>\n",
              "      <td>Fabulous!</td>\n",
              "      <td>7months ago</td>\n",
              "      <td>5</td>\n",
              "      <td>Super style and good look nice product</td>\n",
              "      <td>Certified Buyer, Salem District</td>\n",
              "    </tr>\n",
              "    <tr>\n",
              "      <th>260</th>\n",
              "      <td>Abhishek  Dubey</td>\n",
              "      <td>Wonderful</td>\n",
              "      <td>7months ago</td>\n",
              "      <td>5</td>\n",
              "      <td>good</td>\n",
              "      <td>Certified Buyer, Mumbai</td>\n",
              "    </tr>\n",
              "    <tr>\n",
              "      <th>261</th>\n",
              "      <td>Herry Jagani</td>\n",
              "      <td>Worth every penny</td>\n",
              "      <td>7months ago</td>\n",
              "      <td>5</td>\n",
              "      <td>good</td>\n",
              "      <td>Certified Buyer, Kachchh District</td>\n",
              "    </tr>\n",
              "    <tr>\n",
              "      <th>262</th>\n",
              "      <td>mehul joshi</td>\n",
              "      <td>Nice product</td>\n",
              "      <td>9months ago</td>\n",
              "      <td>4</td>\n",
              "      <td>Good Product</td>\n",
              "      <td>Certified Buyer, Ahmedabad</td>\n",
              "    </tr>\n",
              "  </tbody>\n",
              "</table>\n",
              "<p>263 rows × 6 columns</p>\n",
              "</div>"
            ],
            "text/plain": [
              "                  user  ...                                       user_address\n",
              "0         Aryan  Patil  ...                    Certified Buyer, Latur District\n",
              "1    Flipkart Customer  ...  Certified Buyer, North Twenty Four Parganas Di...\n",
              "2         Suresh Kumar  ...                         Certified Buyer, New Delhi\n",
              "3          Rohit Purba  ...                           Certified Buyer, Rajpura\n",
              "4    Flipkart Customer  ...                       Certified Buyer, Muzaffarpur\n",
              "..                 ...  ...                                                ...\n",
              "258  Flipkart Customer  ...                           Certified Buyer, Chennai\n",
              "259    Aravind kumar S  ...                    Certified Buyer, Salem District\n",
              "260    Abhishek  Dubey  ...                            Certified Buyer, Mumbai\n",
              "261       Herry Jagani  ...                  Certified Buyer, Kachchh District\n",
              "262        mehul joshi  ...                         Certified Buyer, Ahmedabad\n",
              "\n",
              "[263 rows x 6 columns]"
            ]
          },
          "metadata": {
            "tags": []
          },
          "execution_count": 86
        }
      ]
    },
    {
      "cell_type": "code",
      "metadata": {
        "id": "qV2v8o9O9-Xi",
        "colab_type": "code",
        "colab": {}
      },
      "source": [
        ""
      ],
      "execution_count": null,
      "outputs": []
    }
  ]
}