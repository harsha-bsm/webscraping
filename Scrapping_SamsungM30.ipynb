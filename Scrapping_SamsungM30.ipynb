{
  "nbformat": 4,
  "nbformat_minor": 0,
  "metadata": {
    "colab": {
      "name": "Scrapping SamsungM30.ipynb",
      "provenance": [],
      "collapsed_sections": [],
      "authorship_tag": "ABX9TyOYW3Ugo2QsuDeNuhGs7Vtt",
      "include_colab_link": true
    },
    "kernelspec": {
      "name": "python3",
      "display_name": "Python 3"
    }
  },
  "cells": [
    {
      "cell_type": "markdown",
      "metadata": {
        "id": "view-in-github",
        "colab_type": "text"
      },
      "source": [
        "<a href=\"https://colab.research.google.com/github/harsha-bsm/webscraping/blob/master/Scrapping_SamsungM30.ipynb\" target=\"_parent\"><img src=\"https://colab.research.google.com/assets/colab-badge.svg\" alt=\"Open In Colab\"/></a>"
      ]
    },
    {
      "cell_type": "code",
      "metadata": {
        "id": "y_jVmfsRq9Ag",
        "colab_type": "code",
        "colab": {}
      },
      "source": [
        "import requests as re"
      ],
      "execution_count": 89,
      "outputs": []
    },
    {
      "cell_type": "code",
      "metadata": {
        "id": "xW-v21WDrGXe",
        "colab_type": "code",
        "colab": {}
      },
      "source": [
        "  from bs4 import BeautifulSoup"
      ],
      "execution_count": 90,
      "outputs": []
    },
    {
      "cell_type": "code",
      "metadata": {
        "id": "KgbMpEr0LzZH",
        "colab_type": "code",
        "colab": {}
      },
      "source": [
        "import re as regex"
      ],
      "execution_count": 91,
      "outputs": []
    },
    {
      "cell_type": "code",
      "metadata": {
        "id": "7r8jdWKHs_qS",
        "colab_type": "code",
        "colab": {}
      },
      "source": [
        "product=soup.title.text.split(\"|\")[0].split(\":\")[0]"
      ],
      "execution_count": 232,
      "outputs": []
    },
    {
      "cell_type": "code",
      "metadata": {
        "id": "Pd0Nt8LOQF_Q",
        "colab_type": "code",
        "colab": {}
      },
      "source": [
        "import pandas as pd"
      ],
      "execution_count": 93,
      "outputs": []
    },
    {
      "cell_type": "code",
      "metadata": {
        "id": "_Zy27sD0tHX2",
        "colab_type": "code",
        "colab": {
          "base_uri": "https://localhost:8080/",
          "height": 100
        },
        "outputId": "15b7cfeb-b74e-4eb7-d1b7-6e31ee8abc30"
      },
      "source": [
        "#soup.find_all(\"div\",attrs={\"class\":\"qwj&\"})\n",
        "\n",
        "data=pd.DataFrame(columns={\"Model\",\"title\",\"review\",\"rating\",\"user\",\"time_of_review\"})\n",
        "review_1=[]\n",
        "title_1=[]\n",
        "rating_1=[]\n",
        "user_1=[]\n",
        "time1=[]\n",
        "user_address=[]\n",
        "model=[]\n",
        "url=\"https://www.flipkart.com/samsung-galaxy-m30s-blue-128-gb/product-reviews/itm79f7239a3b086?pid=MOBFSHFBFGNWPSXF&lid=LSTMOBFSHFBFGNWPSXF514GKR&marketplace=FLIPKART&page=1\"\n",
        "parent=soup.find( attrs={\"class\":\"_1ypTlJ\"})\n",
        "lastpage=int(parent.find_parent().span.text.split(\" \")[-1]) \n",
        "product=soup.title.text.split(\"|\")[0].split(\":\")[0]\n",
        "for j in range(1,lastpage+1):\n",
        "  url=\"https://www.flipkart.com/samsung-galaxy-m30s-blue-128-gb/product-reviews/itm79f7239a3b086?pid=MOBFSHFBFGNWPSXF&lid=LSTMOBFSHFBFGNWPSXF514GKR&marketplace=FLIPKART&page=\"\n",
        "  url_fin=url+str(j)\n",
        "  html=re.get(url_fin)\n",
        "  soup=BeautifulSoup(html.content,\"lxml\")\n",
        "  review=soup.find_all(attrs={\"class\":\"qwjRop\"})\n",
        "  title=soup.find_all(\"p\",attrs={\"class\":\"_2xg6Ul\"})\n",
        "  user=soup.find_all(\"p\",attrs={\"class\":\"_3LYOAd _3sxSiS\"})\n",
        "  rating=soup.find_all(attrs={\"class\":\"hGSR34 E_uFuv\"})\n",
        "  address=soup.find_all(attrs={\"class\":\"_19inI8\"})\n",
        "  time=soup.find_all(attrs={\"class\":\"_3LYOAd\"})[1::2]\n",
        "  for (i,j,k,u,t,ad) in zip(review,title,rating,user,time,address):\n",
        "    review_1.append(i.text.strip(\"READ MORE\"))\n",
        "    title_1.append(j.get_text())\n",
        "    rating_1.append(k.get_text())\n",
        "    user_1.append(u.get_text())\n",
        "    time1.append(t.get_text())\n",
        "    user_address.append(ad.get_text())\n",
        "    model.append(product)\n",
        "\"\"\"\n",
        "data[\"title\"]=title_1\n",
        "data[\"review\"]=review_1\n",
        "data[\"rating\"]=rating_1\n",
        "data[\"user\"]=user_1\n",
        "data[\"time_of_review\"]=time1\n",
        "data[\"user_address\"]=user_address\n",
        "data[\"product\"]=product.strip(\" Reviews\")\n",
        "\"\"\""
      ],
      "execution_count": 255,
      "outputs": [
        {
          "output_type": "stream",
          "text": [
            "Empty DataFrame\n",
            "Columns: [user, title, time_of_review, rating, review, Model]\n",
            "Index: []\n"
          ],
          "name": "stdout"
        },
        {
          "output_type": "execute_result",
          "data": {
            "application/vnd.google.colaboratory.intrinsic+json": {
              "type": "string"
            },
            "text/plain": [
              "'\\ndata[\"title\"]=title_1\\ndata[\"review\"]=review_1\\ndata[\"rating\"]=rating_1\\ndata[\"user\"]=user_1\\ndata[\"time_of_review\"]=time1\\ndata[\"user_address\"]=user_address\\ndata[\"product\"]=product.strip(\" Reviews\")\\n'"
            ]
          },
          "metadata": {
            "tags": []
          },
          "execution_count": 255
        }
      ]
    },
    {
      "cell_type": "code",
      "metadata": {
        "id": "QncN6r1VFuGy",
        "colab_type": "code",
        "colab": {}
      },
      "source": [
        "#soup.find_all(\"div\",attrs={\"class\":\"qwj&\"})\n",
        "\"\"\"\n",
        "data=pd.DataFrame(columns={\"product\",\"title\",\"review\",\"rating\",\"user\",\"time_of_review\"})\n",
        "\n",
        "print(data)\n",
        "review_1=[]\n",
        "title_1=[]\n",
        "rating_1=[]\n",
        "user_1=[]\n",
        "time1=[]\n",
        "user_address=[]\n",
        "\"\"\"\n",
        "url=\"https://www.flipkart.com/samsung-galaxy-m30-gradation-blue-64-gb/product-reviews/itmfehwz8b6bsvae?pid=MOBFEHSMHMYUMWYK&lid=LSTMOBFEHSMHMYUMWYKHEJKP5&marketplace=FLIPKART&page=1\"\n",
        "parent=soup.find( attrs={\"class\":\"_1ypTlJ\"})\n",
        "lastpage=int(parent.find_parent().span.text.split(\" \")[-1]) \n",
        "product=soup.title.text.split(\"|\")[0].split(\":\")[0]\n",
        "for j in range(1,lastpage+1):\n",
        "  url=\"https://www.flipkart.com/samsung-galaxy-m30-gradation-blue-64-gb/product-reviews/itmfehwz8b6bsvae?pid=MOBFEHSMHMYUMWYK&lid=LSTMOBFEHSMHMYUMWYKHEJKP5&marketplace=FLIPKART&page=\"\n",
        "  url_fin=url+str(j)\n",
        "  html=re.get(url_fin)\n",
        "  soup=BeautifulSoup(html.content,\"lxml\")\n",
        "  review=soup.find_all(attrs={\"class\":\"qwjRop\"})\n",
        "  title=soup.find_all(\"p\",attrs={\"class\":\"_2xg6Ul\"})\n",
        "  user=soup.find_all(\"p\",attrs={\"class\":\"_3LYOAd _3sxSiS\"})\n",
        "  rating=soup.find_all(attrs={\"class\":\"hGSR34 E_uFuv\"})\n",
        "  address=soup.find_all(attrs={\"class\":\"_19inI8\"})\n",
        "  time=soup.find_all(attrs={\"class\":\"_3LYOAd\"})[1::2]\n",
        "  for (i,j,k,u,t,ad) in zip(review,title,rating,user,time,address):\n",
        "    review_1.append(i.text.strip(\"READ MORE\"))\n",
        "    title_1.append(j.get_text())\n",
        "    rating_1.append(k.get_text())\n",
        "    user_1.append(u.get_text())\n",
        "    time1.append(t.get_text())\n",
        "    user_address.append(ad.get_text())\n",
        "    model.append(product)\n",
        "data[\"title\"]=title_1\n",
        "data[\"review\"]=review_1\n",
        "data[\"rating\"]=rating_1\n",
        "data[\"user\"]=user_1\n",
        "data[\"time_of_review\"]=time1\n",
        "data[\"user_address\"]=user_address\n",
        "data[\"Model\"]=model\n",
        "\n",
        "    "
      ],
      "execution_count": 256,
      "outputs": []
    },
    {
      "cell_type": "code",
      "metadata": {
        "id": "FfSHBQbDMdWb",
        "colab_type": "code",
        "colab": {}
      },
      "source": [
        "dict_class={}"
      ],
      "execution_count": 259,
      "outputs": []
    },
    {
      "cell_type": "code",
      "metadata": {
        "id": "vvBi69H76ZMU",
        "colab_type": "code",
        "colab": {}
      },
      "source": [
        "dict_class[\"review\"]=\"qwjRop\"\n",
        "dict_class[\"title\"]=\"_2xg6Ul\"\n",
        "dict_class[\"user\"]=\"_3LYOAd _3sxSiS\"\n",
        "dict_class[\"rating\"]=\"hGSR34 E_uFuv\"\n",
        "dict_class[\"address\"]=\"_19inI8\"\n",
        "dict_class[\"time\"]=\"_3LYOAd\"\n",
        "dict_class[\"Main_Title\"]=\"o9Xx3p _1_odLJ\""
      ],
      "execution_count": 260,
      "outputs": []
    },
    {
      "cell_type": "code",
      "metadata": {
        "id": "DSRdyuVBU8uR",
        "colab_type": "code",
        "colab": {
          "base_uri": "https://localhost:8080/",
          "height": 131
        },
        "outputId": "dc59d7a6-bca4-4302-eeb9-ba015c883d40"
      },
      "source": [
        "dict_class"
      ],
      "execution_count": 261,
      "outputs": [
        {
          "output_type": "execute_result",
          "data": {
            "text/plain": [
              "{'Main_Title': 'o9Xx3p _1_odLJ',\n",
              " 'address': '_19inI8',\n",
              " 'rating': 'hGSR34 E_uFuv',\n",
              " 'review': 'qwjRop',\n",
              " 'time': '_3LYOAd',\n",
              " 'title': '_2xg6Ul',\n",
              " 'user': '_3LYOAd _3sxSiS'}"
            ]
          },
          "metadata": {
            "tags": []
          },
          "execution_count": 261
        }
      ]
    },
    {
      "cell_type": "code",
      "metadata": {
        "id": "Jnz6kGOoU-Q8",
        "colab_type": "code",
        "colab": {
          "base_uri": "https://localhost:8080/",
          "height": 191
        },
        "outputId": "405a8b83-be4e-40f4-f060-f4053a776cb7"
      },
      "source": [
        "data.head()"
      ],
      "execution_count": 262,
      "outputs": [
        {
          "output_type": "execute_result",
          "data": {
            "text/html": [
              "<div>\n",
              "<style scoped>\n",
              "    .dataframe tbody tr th:only-of-type {\n",
              "        vertical-align: middle;\n",
              "    }\n",
              "\n",
              "    .dataframe tbody tr th {\n",
              "        vertical-align: top;\n",
              "    }\n",
              "\n",
              "    .dataframe thead th {\n",
              "        text-align: right;\n",
              "    }\n",
              "</style>\n",
              "<table border=\"1\" class=\"dataframe\">\n",
              "  <thead>\n",
              "    <tr style=\"text-align: right;\">\n",
              "      <th></th>\n",
              "      <th>user</th>\n",
              "      <th>title</th>\n",
              "      <th>time_of_review</th>\n",
              "      <th>rating</th>\n",
              "      <th>review</th>\n",
              "      <th>Model</th>\n",
              "      <th>user_address</th>\n",
              "    </tr>\n",
              "  </thead>\n",
              "  <tbody>\n",
              "    <tr>\n",
              "      <th>0</th>\n",
              "      <td>Aryan  Patil</td>\n",
              "      <td>Wonderful</td>\n",
              "      <td>2months ago</td>\n",
              "      <td>5</td>\n",
              "      <td>Bokeh mode is very excellent than any other ha...</td>\n",
              "      <td>Samsung Galaxy M30 Gradation Blue 64 Gb Reviews</td>\n",
              "      <td>Certified Buyer, Latur District</td>\n",
              "    </tr>\n",
              "    <tr>\n",
              "      <th>1</th>\n",
              "      <td>Flipkart Customer</td>\n",
              "      <td>Great product</td>\n",
              "      <td>5months ago</td>\n",
              "      <td>5</td>\n",
              "      <td>Just awsome product the picture quality is goo...</td>\n",
              "      <td>Samsung Galaxy M30 Gradation Blue 64 Gb Reviews</td>\n",
              "      <td>Certified Buyer, North Twenty Four Parganas Di...</td>\n",
              "    </tr>\n",
              "    <tr>\n",
              "      <th>2</th>\n",
              "      <td>Suresh Kumar</td>\n",
              "      <td>Nice product</td>\n",
              "      <td>5months ago</td>\n",
              "      <td>4</td>\n",
              "      <td>Samsung galaxy m30s is most useful.But Samsung...</td>\n",
              "      <td>Samsung Galaxy M30 Gradation Blue 64 Gb Reviews</td>\n",
              "      <td>Certified Buyer, New Delhi</td>\n",
              "    </tr>\n",
              "    <tr>\n",
              "      <th>3</th>\n",
              "      <td>Rohit Purba</td>\n",
              "      <td>Utterly Disappointed</td>\n",
              "      <td>6months ago</td>\n",
              "      <td>5</td>\n",
              "      <td>Not worth for me. i buy for my samsung tv this...</td>\n",
              "      <td>Samsung Galaxy M30 Gradation Blue 64 Gb Reviews</td>\n",
              "      <td>Certified Buyer, Rajpura</td>\n",
              "    </tr>\n",
              "    <tr>\n",
              "      <th>4</th>\n",
              "      <td>Flipkart Customer</td>\n",
              "      <td>Highly recommended</td>\n",
              "      <td>5months ago</td>\n",
              "      <td>4</td>\n",
              "      <td>BSOLUTELY BEST PHONE, GO FOR THIS PHONELET ME ...</td>\n",
              "      <td>Samsung Galaxy M30 Gradation Blue 64 Gb Reviews</td>\n",
              "      <td>Certified Buyer, Muzaffarpur</td>\n",
              "    </tr>\n",
              "  </tbody>\n",
              "</table>\n",
              "</div>"
            ],
            "text/plain": [
              "                user  ...                                       user_address\n",
              "0       Aryan  Patil  ...                    Certified Buyer, Latur District\n",
              "1  Flipkart Customer  ...  Certified Buyer, North Twenty Four Parganas Di...\n",
              "2       Suresh Kumar  ...                         Certified Buyer, New Delhi\n",
              "3        Rohit Purba  ...                           Certified Buyer, Rajpura\n",
              "4  Flipkart Customer  ...                       Certified Buyer, Muzaffarpur\n",
              "\n",
              "[5 rows x 7 columns]"
            ]
          },
          "metadata": {
            "tags": []
          },
          "execution_count": 262
        }
      ]
    },
    {
      "cell_type": "code",
      "metadata": {
        "id": "YZBQFa50Xw-a",
        "colab_type": "code",
        "colab": {}
      },
      "source": [
        ""
      ],
      "execution_count": null,
      "outputs": []
    }
  ]
}