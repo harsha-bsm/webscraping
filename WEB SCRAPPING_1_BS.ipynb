{
 "cells": [
  {
   "cell_type": "markdown",
   "metadata": {},
   "source": [
    "### Web Scraping using BeautifulSoup \n",
    "#### URL used = https://en.wikipedia.org/wiki/List_of_countries_by_GDP_(nominal)"
   ]
  },
  {
   "cell_type": "code",
   "execution_count": null,
   "metadata": {},
   "outputs": [],
   "source": []
  },
  {
   "cell_type": "code",
   "execution_count": 90,
   "metadata": {},
   "outputs": [],
   "source": [
    "from bs4 import BeautifulSoup as bs"
   ]
  },
  {
   "cell_type": "code",
   "execution_count": 91,
   "metadata": {},
   "outputs": [],
   "source": [
    "import requests as re"
   ]
  },
  {
   "cell_type": "code",
   "execution_count": 92,
   "metadata": {},
   "outputs": [],
   "source": [
    "url=\"https://en.wikipedia.org/wiki/List_of_countries_by_GDP_(nominal)\""
   ]
  },
  {
   "cell_type": "code",
   "execution_count": 93,
   "metadata": {},
   "outputs": [],
   "source": [
    "html_content=re.get(url).text"
   ]
  },
  {
   "cell_type": "code",
   "execution_count": 94,
   "metadata": {},
   "outputs": [],
   "source": [
    "soup=bs(html_content,\"lxml\")"
   ]
  },
  {
   "cell_type": "code",
   "execution_count": 95,
   "metadata": {},
   "outputs": [
    {
     "name": "stdout",
     "output_type": "stream",
     "text": [
      "List of countries by GDP (nominal) - Wikipedia\n"
     ]
    }
   ],
   "source": [
    "print(soup.title.text)"
   ]
  },
  {
   "cell_type": "code",
   "execution_count": 96,
   "metadata": {},
   "outputs": [],
   "source": [
    "gdp_table=soup.find(\"table\",attrs={\"class\":\"wikitable\"})"
   ]
  },
  {
   "cell_type": "code",
   "execution_count": 97,
   "metadata": {},
   "outputs": [],
   "source": [
    "gdp_table_data = gdp_table.tbody.find_all(\"tr\")"
   ]
  },
  {
   "cell_type": "code",
   "execution_count": 98,
   "metadata": {},
   "outputs": [
    {
     "data": {
      "text/plain": [
       "603"
      ]
     },
     "execution_count": 98,
     "metadata": {},
     "output_type": "execute_result"
    }
   ],
   "source": [
    "len(gdp_table_data)"
   ]
  },
  {
   "cell_type": "code",
   "execution_count": 99,
   "metadata": {},
   "outputs": [],
   "source": [
    "headings=[]\n",
    "for td in gdp_table_data[0].find_all(\"td\"):\n",
    "    headings.append(td.b.a[\"title\"])\n",
    "    \n",
    "    "
   ]
  },
  {
   "cell_type": "code",
   "execution_count": 100,
   "metadata": {},
   "outputs": [
    {
     "data": {
      "text/plain": [
       "[<td style=\"width:33%; text-align:center;\"><b>Per the <a href=\"/wiki/International_Monetary_Fund\" title=\"International Monetary Fund\">International Monetary Fund</a> (2019 estimates)</b><sup class=\"reference\" id=\"cite_ref-GDP_IMF_1-2\"><a href=\"#cite_note-GDP_IMF-1\">[1]</a></sup>\n",
       " </td>,\n",
       " <td style=\"width:33%; text-align:center;\"><b>Per the <a href=\"/wiki/World_Bank\" title=\"World Bank\">World Bank</a> (2018)</b><sup class=\"reference\" id=\"cite_ref-worldbank_21-0\"><a href=\"#cite_note-worldbank-21\">[20]</a></sup>\n",
       " </td>,\n",
       " <td style=\"width:33%; text-align:center;\"><b>Per the <a href=\"/wiki/United_Nations\" title=\"United Nations\">United Nations</a> (2017)</b><sup class=\"reference\" id=\"cite_ref-22\"><a href=\"#cite_note-22\">[21]</a></sup><sup class=\"reference\" id=\"cite_ref-23\"><a href=\"#cite_note-23\">[22]</a></sup>\n",
       " </td>]"
      ]
     },
     "execution_count": 100,
     "metadata": {},
     "output_type": "execute_result"
    }
   ],
   "source": [
    "gdp_table_data[0].find_all(\"td\")"
   ]
  },
  {
   "cell_type": "code",
   "execution_count": 101,
   "metadata": {},
   "outputs": [],
   "source": [
    "headings=[]"
   ]
  },
  {
   "cell_type": "code",
   "execution_count": 102,
   "metadata": {},
   "outputs": [
    {
     "data": {
      "text/plain": [
       "['International Monetary Fund', 'World Bank', 'United Nations']"
      ]
     },
     "execution_count": 102,
     "metadata": {},
     "output_type": "execute_result"
    }
   ],
   "source": [
    "#otaining headings\n",
    "main_table=soup.find(\"table\",attrs={\"class\":\"wikitable\"})\n",
    "headings=[]\n",
    "for i in main_table.tbody.tr.find_all(\"td\"):\n",
    "    \n",
    "    headings.append(i.b.a.text)\n",
    "headings"
   ]
  },
  {
   "cell_type": "code",
   "execution_count": 103,
   "metadata": {},
   "outputs": [],
   "source": [
    "subheadings=[]\n",
    "for i in main_table.find_all(\"th\"):\n",
    "    subheadings.append(i.text)\n",
    "subheadings=subheadings[0:3]"
   ]
  },
  {
   "cell_type": "code",
   "execution_count": 104,
   "metadata": {},
   "outputs": [
    {
     "data": {
      "text/plain": [
       "['Rank', 'Country/Territory', 'GDP(US$million)\\n']"
      ]
     },
     "execution_count": 104,
     "metadata": {},
     "output_type": "execute_result"
    }
   ],
   "source": [
    "subheadings"
   ]
  },
  {
   "cell_type": "code",
   "execution_count": 105,
   "metadata": {},
   "outputs": [],
   "source": [
    "maindata=soup.find_all(\"table\",attrs={\"class\":\"wikitable sortable\"})"
   ]
  },
  {
   "cell_type": "code",
   "execution_count": 106,
   "metadata": {},
   "outputs": [],
   "source": [
    "lis=[]\n",
    "lis_1=[]\n",
    "semifin=[]\n",
    "final_data=[]\n",
    "for j in maindata:\n",
    "    for i in j.find_all(\"td\"):\n",
    "        lis.append(i.text.replace(\"\\n\",\"\").replace(\"\\xa0\",\"\"))\n",
    "    lis_1=[dict(zip(subheadings,lis[k:k+3])) for k in range(0,len(lis),3)]\n",
    "    #print(lis_1)\n",
    "    lis=[]\n",
    "    semifin.append(lis_1)\n",
    "    lis_1=[]\n",
    "    \n",
    "        \n",
    "        "
   ]
  },
  {
   "cell_type": "code",
   "execution_count": 107,
   "metadata": {},
   "outputs": [],
   "source": [
    "# The bottom can also be written using loops \n",
    "df=pd.DataFrame(semifin[0])\n",
    "dg=pd.DataFrame(semifin[1])"
   ]
  },
  {
   "cell_type": "code",
   "execution_count": 108,
   "metadata": {},
   "outputs": [],
   "source": [
    "dh=pd.DataFrame(semifin[2])\n"
   ]
  },
  {
   "cell_type": "code",
   "execution_count": 109,
   "metadata": {},
   "outputs": [],
   "source": [
    "data_pd=df.join(dg,how='outer',rsuffix=\"_WB\",lsuffix=\"_IMF\").join(dh,how=\"outer\",rsuffix=\"_UN\")"
   ]
  },
  {
   "cell_type": "code",
   "execution_count": 110,
   "metadata": {},
   "outputs": [
    {
     "data": {
      "text/html": [
       "<div>\n",
       "<style scoped>\n",
       "    .dataframe tbody tr th:only-of-type {\n",
       "        vertical-align: middle;\n",
       "    }\n",
       "\n",
       "    .dataframe tbody tr th {\n",
       "        vertical-align: top;\n",
       "    }\n",
       "\n",
       "    .dataframe thead th {\n",
       "        text-align: right;\n",
       "    }\n",
       "</style>\n",
       "<table border=\"1\" class=\"dataframe\">\n",
       "  <thead>\n",
       "    <tr style=\"text-align: right;\">\n",
       "      <th></th>\n",
       "      <th>Country/Territory_IMF</th>\n",
       "      <th>GDP(US$million)\n",
       "_IMF</th>\n",
       "      <th>Rank_IMF</th>\n",
       "      <th>Country/Territory_WB</th>\n",
       "      <th>GDP(US$million)\n",
       "_WB</th>\n",
       "      <th>Rank_WB</th>\n",
       "      <th>Country/Territory</th>\n",
       "      <th>GDP(US$million)</th>\n",
       "      <th>Rank</th>\n",
       "    </tr>\n",
       "  </thead>\n",
       "  <tbody>\n",
       "    <tr>\n",
       "      <th>0</th>\n",
       "      <td>World[19]</td>\n",
       "      <td>87,265,226</td>\n",
       "      <td></td>\n",
       "      <td>World</td>\n",
       "      <td>85,804,391</td>\n",
       "      <td></td>\n",
       "      <td>World[25]</td>\n",
       "      <td>80,501,413</td>\n",
       "      <td></td>\n",
       "    </tr>\n",
       "    <tr>\n",
       "      <th>1</th>\n",
       "      <td>United States</td>\n",
       "      <td>21,439,453</td>\n",
       "      <td>1</td>\n",
       "      <td>United States</td>\n",
       "      <td>20,494,100</td>\n",
       "      <td>1</td>\n",
       "      <td>United States</td>\n",
       "      <td>19,485,394</td>\n",
       "      <td>1</td>\n",
       "    </tr>\n",
       "    <tr>\n",
       "      <th>2</th>\n",
       "      <td>European Union[23][n 1]</td>\n",
       "      <td>18,705,132</td>\n",
       "      <td>—</td>\n",
       "      <td>China[n 5]</td>\n",
       "      <td>13,608,152</td>\n",
       "      <td>2</td>\n",
       "      <td>China[n 5]</td>\n",
       "      <td>12,234,781</td>\n",
       "      <td>2</td>\n",
       "    </tr>\n",
       "    <tr>\n",
       "      <th>3</th>\n",
       "      <td>China[n 2]</td>\n",
       "      <td>14,140,163</td>\n",
       "      <td>2</td>\n",
       "      <td>Japan</td>\n",
       "      <td>4,970,916</td>\n",
       "      <td>3</td>\n",
       "      <td>Japan</td>\n",
       "      <td>4,872,415</td>\n",
       "      <td>3</td>\n",
       "    </tr>\n",
       "    <tr>\n",
       "      <th>4</th>\n",
       "      <td>Japan</td>\n",
       "      <td>5,154,475</td>\n",
       "      <td>3</td>\n",
       "      <td>Germany</td>\n",
       "      <td>3,996,759</td>\n",
       "      <td>4</td>\n",
       "      <td>Germany</td>\n",
       "      <td>3,693,204</td>\n",
       "      <td>4</td>\n",
       "    </tr>\n",
       "  </tbody>\n",
       "</table>\n",
       "</div>"
      ],
      "text/plain": [
       "     Country/Territory_IMF GDP(US$million)\\n_IMF Rank_IMF  \\\n",
       "0                World[19]            87,265,226            \n",
       "1            United States            21,439,453        1   \n",
       "2  European Union[23][n 1]            18,705,132        —   \n",
       "3               China[n 2]            14,140,163        2   \n",
       "4                    Japan             5,154,475        3   \n",
       "\n",
       "  Country/Territory_WB GDP(US$million)\\n_WB Rank_WB Country/Territory  \\\n",
       "0                World           85,804,391                 World[25]   \n",
       "1        United States           20,494,100       1     United States   \n",
       "2           China[n 5]           13,608,152       2        China[n 5]   \n",
       "3                Japan            4,970,916       3             Japan   \n",
       "4              Germany            3,996,759       4           Germany   \n",
       "\n",
       "  GDP(US$million)\\n Rank  \n",
       "0        80,501,413       \n",
       "1        19,485,394    1  \n",
       "2        12,234,781    2  \n",
       "3         4,872,415    3  \n",
       "4         3,693,204    4  "
      ]
     },
     "execution_count": 110,
     "metadata": {},
     "output_type": "execute_result"
    }
   ],
   "source": [
    "data_pd.head()"
   ]
  },
  {
   "cell_type": "code",
   "execution_count": 111,
   "metadata": {},
   "outputs": [],
   "source": [
    "data_pd.to_csv(\"webscraping_one.csv\",index=False,header=True)"
   ]
  },
  {
   "cell_type": "code",
   "execution_count": 112,
   "metadata": {},
   "outputs": [],
   "source": [
    "webscraping_one=pd.read_csv(\"webscraping_one.csv\")"
   ]
  },
  {
   "cell_type": "code",
   "execution_count": 113,
   "metadata": {},
   "outputs": [
    {
     "data": {
      "text/html": [
       "<div>\n",
       "<style scoped>\n",
       "    .dataframe tbody tr th:only-of-type {\n",
       "        vertical-align: middle;\n",
       "    }\n",
       "\n",
       "    .dataframe tbody tr th {\n",
       "        vertical-align: top;\n",
       "    }\n",
       "\n",
       "    .dataframe thead th {\n",
       "        text-align: right;\n",
       "    }\n",
       "</style>\n",
       "<table border=\"1\" class=\"dataframe\">\n",
       "  <thead>\n",
       "    <tr style=\"text-align: right;\">\n",
       "      <th></th>\n",
       "      <th>Country/Territory_IMF</th>\n",
       "      <th>GDP(US$million)\r\n",
       "_IMF</th>\n",
       "      <th>Rank_IMF</th>\n",
       "      <th>Country/Territory_WB</th>\n",
       "      <th>GDP(US$million)\r\n",
       "_WB</th>\n",
       "      <th>Rank_WB</th>\n",
       "      <th>Country/Territory</th>\n",
       "      <th>GDP(US$million)</th>\n",
       "      <th>Rank</th>\n",
       "    </tr>\n",
       "  </thead>\n",
       "  <tbody>\n",
       "    <tr>\n",
       "      <th>208</th>\n",
       "      <td>NaN</td>\n",
       "      <td>NaN</td>\n",
       "      <td>NaN</td>\n",
       "      <td>NaN</td>\n",
       "      <td>NaN</td>\n",
       "      <td>NaN</td>\n",
       "      <td>Marshall Islands</td>\n",
       "      <td>209</td>\n",
       "      <td>189</td>\n",
       "    </tr>\n",
       "    <tr>\n",
       "      <th>209</th>\n",
       "      <td>NaN</td>\n",
       "      <td>NaN</td>\n",
       "      <td>NaN</td>\n",
       "      <td>NaN</td>\n",
       "      <td>NaN</td>\n",
       "      <td>NaN</td>\n",
       "      <td>Nauru</td>\n",
       "      <td>182</td>\n",
       "      <td>190</td>\n",
       "    </tr>\n",
       "    <tr>\n",
       "      <th>210</th>\n",
       "      <td>NaN</td>\n",
       "      <td>NaN</td>\n",
       "      <td>NaN</td>\n",
       "      <td>NaN</td>\n",
       "      <td>NaN</td>\n",
       "      <td>NaN</td>\n",
       "      <td>Kiribati</td>\n",
       "      <td>180</td>\n",
       "      <td>191</td>\n",
       "    </tr>\n",
       "    <tr>\n",
       "      <th>211</th>\n",
       "      <td>NaN</td>\n",
       "      <td>NaN</td>\n",
       "      <td>NaN</td>\n",
       "      <td>NaN</td>\n",
       "      <td>NaN</td>\n",
       "      <td>NaN</td>\n",
       "      <td>Montserrat</td>\n",
       "      <td>63</td>\n",
       "      <td>—</td>\n",
       "    </tr>\n",
       "    <tr>\n",
       "      <th>212</th>\n",
       "      <td>NaN</td>\n",
       "      <td>NaN</td>\n",
       "      <td>NaN</td>\n",
       "      <td>NaN</td>\n",
       "      <td>NaN</td>\n",
       "      <td>NaN</td>\n",
       "      <td>Tuvalu</td>\n",
       "      <td>38</td>\n",
       "      <td>192</td>\n",
       "    </tr>\n",
       "  </tbody>\n",
       "</table>\n",
       "</div>"
      ],
      "text/plain": [
       "    Country/Territory_IMF GDP(US$million)\\r\\n_IMF Rank_IMF  \\\n",
       "208                   NaN                     NaN      NaN   \n",
       "209                   NaN                     NaN      NaN   \n",
       "210                   NaN                     NaN      NaN   \n",
       "211                   NaN                     NaN      NaN   \n",
       "212                   NaN                     NaN      NaN   \n",
       "\n",
       "    Country/Territory_WB GDP(US$million)\\r\\n_WB Rank_WB Country/Territory  \\\n",
       "208                  NaN                    NaN     NaN  Marshall Islands   \n",
       "209                  NaN                    NaN     NaN             Nauru   \n",
       "210                  NaN                    NaN     NaN          Kiribati   \n",
       "211                  NaN                    NaN     NaN        Montserrat   \n",
       "212                  NaN                    NaN     NaN            Tuvalu   \n",
       "\n",
       "    GDP(US$million)\\r\\n Rank  \n",
       "208                 209  189  \n",
       "209                 182  190  \n",
       "210                 180  191  \n",
       "211                  63    —  \n",
       "212                  38  192  "
      ]
     },
     "execution_count": 113,
     "metadata": {},
     "output_type": "execute_result"
    }
   ],
   "source": [
    "webscraping_one.tail()"
   ]
  },
  {
   "cell_type": "code",
   "execution_count": 114,
   "metadata": {},
   "outputs": [],
   "source": [
    "final_data=dict(zip(headings,semifin))\n",
    "    "
   ]
  },
  {
   "cell_type": "code",
   "execution_count": 115,
   "metadata": {},
   "outputs": [],
   "source": [
    "#final_data"
   ]
  },
  {
   "cell_type": "code",
   "execution_count": 116,
   "metadata": {},
   "outputs": [],
   "source": [
    "#import pandas as pd"
   ]
  },
  {
   "cell_type": "code",
   "execution_count": 117,
   "metadata": {},
   "outputs": [],
   "source": [
    "#final_data[headings[0]][5]"
   ]
  },
  {
   "cell_type": "code",
   "execution_count": null,
   "metadata": {},
   "outputs": [],
   "source": []
  },
  {
   "cell_type": "code",
   "execution_count": null,
   "metadata": {},
   "outputs": [],
   "source": []
  },
  {
   "cell_type": "code",
   "execution_count": null,
   "metadata": {},
   "outputs": [],
   "source": []
  }
 ],
 "metadata": {
  "kernelspec": {
   "display_name": "Python 3",
   "language": "python",
   "name": "python3"
  },
  "language_info": {
   "codemirror_mode": {
    "name": "ipython",
    "version": 3
   },
   "file_extension": ".py",
   "mimetype": "text/x-python",
   "name": "python",
   "nbconvert_exporter": "python",
   "pygments_lexer": "ipython3",
   "version": "3.6.5"
  }
 },
 "nbformat": 4,
 "nbformat_minor": 2
}
